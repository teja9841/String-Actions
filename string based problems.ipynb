{
 "cells": [
  {
   "cell_type": "code",
   "execution_count": 1,
   "id": "0cccbf89",
   "metadata": {},
   "outputs": [],
   "source": [
    "#1 Write a Python program to convert a string to lower case"
   ]
  },
  {
   "cell_type": "code",
   "execution_count": 1,
   "id": "680c3ddb",
   "metadata": {},
   "outputs": [
    {
     "name": "stdout",
     "output_type": "stream",
     "text": [
      "I SUGGEST YOU TO EAT SOMETHING.\n",
      "i suggest you to eat something.\n"
     ]
    }
   ],
   "source": [
    "x=input()\n",
    "print(x.lower())"
   ]
  },
  {
   "cell_type": "code",
   "execution_count": 2,
   "id": "aad3e08b",
   "metadata": {},
   "outputs": [],
   "source": [
    "#2 Write a python program to convert only odd index charecters to lower case"
   ]
  },
  {
   "cell_type": "code",
   "execution_count": 74,
   "id": "9893e468",
   "metadata": {},
   "outputs": [
    {
     "name": "stdout",
     "output_type": "stream",
     "text": [
      "APPOLO\n",
      "ApPoLo\n"
     ]
    }
   ],
   "source": [
    "x=input()\n",
    "a=\"\"\n",
    "for letters in range(0,len(x)):\n",
    "    if  letters%2!=0:\n",
    "        a=a+x[letters].lower()\n",
    "    else:\n",
    "        a=a+x[letters]\n",
    "print(a)"
   ]
  },
  {
   "cell_type": "code",
   "execution_count": 4,
   "id": "8e8fb8e9",
   "metadata": {},
   "outputs": [],
   "source": [
    "#3 Write a python program to convert only even index charecters to lower case"
   ]
  },
  {
   "cell_type": "code",
   "execution_count": 1,
   "id": "5af9ae47",
   "metadata": {},
   "outputs": [
    {
     "name": "stdout",
     "output_type": "stream",
     "text": [
      "ApOlLo\n",
      "apollo\n"
     ]
    }
   ],
   "source": [
    "a=input()\n",
    "b=\"\"\n",
    "for idx in range(0,len(a)):\n",
    "    if idx%2==0:\n",
    "        b+=a[idx].lower()\n",
    "    else:\n",
    "        b+=a[idx]\n",
    "print(b)"
   ]
  },
  {
   "cell_type": "code",
   "execution_count": 1,
   "id": "ecabfa1f",
   "metadata": {},
   "outputs": [],
   "source": [
    "#4 Write a python program to convert only odd indexed characters to upper case"
   ]
  },
  {
   "cell_type": "code",
   "execution_count": 2,
   "id": "75ed87e4",
   "metadata": {},
   "outputs": [
    {
     "name": "stdout",
     "output_type": "stream",
     "text": [
      "apollo\n",
      "aPoLlO\n"
     ]
    }
   ],
   "source": [
    "c=input()\n",
    "new=\"\"\n",
    "for idx in range(0,len(c)):\n",
    "    if idx%2!=0:\n",
    "        new+=c[idx].upper()\n",
    "    else:\n",
    "        new+=c[idx]\n",
    "print(new)"
   ]
  },
  {
   "cell_type": "code",
   "execution_count": 3,
   "id": "99caf9f2",
   "metadata": {},
   "outputs": [],
   "source": [
    "# Write a python program to convert only even indexed characters to upper case"
   ]
  },
  {
   "cell_type": "code",
   "execution_count": 4,
   "id": "9d666266",
   "metadata": {},
   "outputs": [
    {
     "name": "stdout",
     "output_type": "stream",
     "text": [
      "apollo\n",
      "ApOlLo\n"
     ]
    }
   ],
   "source": [
    "a=input()\n",
    "evn=\"\"\n",
    "for l in range(0,len(a)):\n",
    "    if l%2==0:\n",
    "        evn+=a[l].upper()\n",
    "    else:\n",
    "        evn+=a[l]\n",
    "print(evn)"
   ]
  },
  {
   "cell_type": "code",
   "execution_count": 1,
   "id": "8269ab35",
   "metadata": {},
   "outputs": [],
   "source": [
    "#Write a python program where you have different variable which contains your name ,sex,age, phone no ,fathers name and mothers name.And by using this variable create avariable named bio-data where you will use all this variable"
   ]
  },
  {
   "cell_type": "code",
   "execution_count": 4,
   "id": "6dcfd3bd",
   "metadata": {},
   "outputs": [
    {
     "name": "stdout",
     "output_type": "stream",
     "text": [
      "Name : Teja\n",
      "Sex : Male\n",
      "Age : 21\n",
      "Phno : 9705299473\n",
      "Father Name : Raghava\n",
      "Mother Name : lakshmi\n",
      "My Name is Teja and I am 21 years old Male. And My phone number is 9705299473\n",
      "My Father and my Mother name is Raghava and lakshmi\n"
     ]
    }
   ],
   "source": [
    "n=input(\"Name : \")\n",
    "s=input(\"Sex : \")\n",
    "a=int(input(\"Age : \"))\n",
    "p=int(input(\"Phno : \"))\n",
    "f=input(\"Father Name : \")\n",
    "m=input(\"Mother Name : \")\n",
    "bio_data=\"My Name is {} and I am {} years old {}. And My phone number is {}\\nMy Father and my Mother name is {} and {}\".format(n,a,s,p,f,m)\n",
    "print(bio_data)"
   ]
  },
  {
   "cell_type": "code",
   "execution_count": 5,
   "id": "b8f7effa",
   "metadata": {},
   "outputs": [],
   "source": [
    "# Write a python program to count how many times “@” occurred "
   ]
  },
  {
   "cell_type": "code",
   "execution_count": 6,
   "id": "8f41e0aa",
   "metadata": {},
   "outputs": [
    {
     "name": "stdout",
     "output_type": "stream",
     "text": [
      "@@@@jndcdhbhasb@\n"
     ]
    },
    {
     "data": {
      "text/plain": [
       "5"
      ]
     },
     "execution_count": 6,
     "metadata": {},
     "output_type": "execute_result"
    }
   ],
   "source": [
    "n=input()\n",
    "n.count(\"@\")"
   ]
  },
  {
   "cell_type": "code",
   "execution_count": 7,
   "id": "f7522dc4",
   "metadata": {},
   "outputs": [],
   "source": [
    "# Write a python program to get only names from the string"
   ]
  },
  {
   "cell_type": "code",
   "execution_count": 70,
   "id": "b43d273c",
   "metadata": {},
   "outputs": [
    {
     "name": "stdout",
     "output_type": "stream",
     "text": [
      "Tejasesham@gmail.com,ameemshaik@gmail.com,Manoj@gmail.com\n",
      "Tejasesham,ameemshaik,Manoj\n"
     ]
    }
   ],
   "source": [
    "a=input()\n",
    "b=a.split(\",\")\n",
    "m1=b[0]\n",
    "m2=b[1]\n",
    "m3=b[2]\n",
    "M1=m1.index(\"@\")\n",
    "M2=m2.index(\"@\")\n",
    "M3=m3.index(\"@\")\n",
    "n1=m1[0:M1]\n",
    "n2=m2[0:M2]\n",
    "n3=m3[0:M3]\n",
    "print(\"{} , {} , {}\".format(n1,n2,n3))"
   ]
  },
  {
   "cell_type": "code",
   "execution_count": 71,
   "id": "90c1939f",
   "metadata": {},
   "outputs": [],
   "source": [
    "# Given a string of odd length greater that 9, return a new string made of the middle three characters of a given String"
   ]
  },
  {
   "cell_type": "code",
   "execution_count": 84,
   "id": "28658ec7",
   "metadata": {},
   "outputs": [
    {
     "name": "stdout",
     "output_type": "stream",
     "text": [
      "mynameissan\n"
     ]
    },
    {
     "data": {
      "text/plain": [
       "'mei'"
      ]
     },
     "execution_count": 84,
     "metadata": {},
     "output_type": "execute_result"
    }
   ],
   "source": [
    "name=input()\n",
    "size=int(len(name)/2)\n",
    "name[size-1:size+2]"
   ]
  },
  {
   "cell_type": "code",
   "execution_count": 85,
   "id": "c0950642",
   "metadata": {},
   "outputs": [],
   "source": [
    "# Write a python program to insert a 2 string in the middle of 1 string"
   ]
  },
  {
   "cell_type": "code",
   "execution_count": 9,
   "id": "698ec527",
   "metadata": {},
   "outputs": [
    {
     "name": "stdout",
     "output_type": "stream",
     "text": [
      "ghfhfdggfc\n",
      "oo\n"
     ]
    },
    {
     "data": {
      "text/plain": [
       "'ghfhoofdggfc'"
      ]
     },
     "execution_count": 9,
     "metadata": {},
     "output_type": "execute_result"
    }
   ],
   "source": [
    "name1=input()\n",
    "name2=input()\n",
    "size=int(len(name1)/2)\n",
    "name1[0:size-1]+name2+name1[size-1:]"
   ]
  },
  {
   "cell_type": "code",
   "execution_count": 4,
   "id": "043fbdd3",
   "metadata": {},
   "outputs": [],
   "source": [
    "# Write a program to remove vowels from the entire alphabets "
   ]
  },
  {
   "cell_type": "code",
   "execution_count": 6,
   "id": "a27bd383",
   "metadata": {},
   "outputs": [
    {
     "name": "stdout",
     "output_type": "stream",
     "text": [
      "abcdefghijklmnopqrstuvwxyz\n",
      "bcdfghjklmnpqrstvwxyz\n"
     ]
    }
   ],
   "source": [
    "vowels=[\"a\",\"e\",\"i\",\"o\",\"u\",\"A\",\"E\",\"I\",\"O\",\"U\"]\n",
    "name=input()\n",
    "a=\"\"\n",
    "for i in name:\n",
    "    if i not in vowels:\n",
    "        a+=i\n",
    "print(a)"
   ]
  }
 ],
 "metadata": {
  "kernelspec": {
   "display_name": "Python 3 (ipykernel)",
   "language": "python",
   "name": "python3"
  },
  "language_info": {
   "codemirror_mode": {
    "name": "ipython",
    "version": 3
   },
   "file_extension": ".py",
   "mimetype": "text/x-python",
   "name": "python",
   "nbconvert_exporter": "python",
   "pygments_lexer": "ipython3",
   "version": "3.9.7"
  }
 },
 "nbformat": 4,
 "nbformat_minor": 5
}
