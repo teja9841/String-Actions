{
 "cells": [
  {
   "cell_type": "code",
   "execution_count": 1,
   "id": "0cccbf89",
   "metadata": {},
   "outputs": [],
   "source": [
    "#1 Write a Python program to convert a string to lower case"
   ]
  },
  {
   "cell_type": "code",
   "execution_count": 1,
   "id": "680c3ddb",
   "metadata": {},
   "outputs": [
    {
     "name": "stdout",
     "output_type": "stream",
     "text": [
      "I SUGGEST YOU TO EAT SOMETHING.\n",
      "i suggest you to eat something.\n"
     ]
    }
   ],
   "source": [
    "x=input()\n",
    "print(x.lower())"
   ]
  },
  {
   "cell_type": "code",
   "execution_count": 2,
   "id": "aad3e08b",
   "metadata": {},
   "outputs": [],
   "source": [
    "#2 Write a python program to convert only odd index charecters to lower case"
   ]
  },
  {
   "cell_type": "code",
   "execution_count": 3,
   "id": "9893e468",
   "metadata": {},
   "outputs": [
    {
     "name": "stdout",
     "output_type": "stream",
     "text": [
      "aPoLlO\n",
      "apollo\n"
     ]
    }
   ],
   "source": [
    "x=input()\n",
    "a=\"\"\n",
    "for letters in range(0,len(x)):\n",
    "    if not letters%2==0:\n",
    "        a=a+x[letters].lower()\n",
    "    else:\n",
    "        a=a+x[letters]\n",
    "print(a)"
   ]
  },
  {
   "cell_type": "code",
   "execution_count": 4,
   "id": "8e8fb8e9",
   "metadata": {},
   "outputs": [],
   "source": [
    "#3 Write a python program to convert only even index charecters to lower case"
   ]
  },
  {
   "cell_type": "code",
   "execution_count": 1,
   "id": "5af9ae47",
   "metadata": {},
   "outputs": [
    {
     "name": "stdout",
     "output_type": "stream",
     "text": [
      "ApOlLo\n",
      "apollo\n"
     ]
    }
   ],
   "source": [
    "a=input()\n",
    "b=\"\"\n",
    "for idx in range(0,len(a)):\n",
    "    if idx%2==0:\n",
    "        b+=a[idx].lower()\n",
    "    else:\n",
    "        b+=a[idx]\n",
    "print(b)"
   ]
  },
  {
   "cell_type": "code",
   "execution_count": null,
   "id": "ecabfa1f",
   "metadata": {},
   "outputs": [],
   "source": []
  }
 ],
 "metadata": {
  "kernelspec": {
   "display_name": "Python 3 (ipykernel)",
   "language": "python",
   "name": "python3"
  },
  "language_info": {
   "codemirror_mode": {
    "name": "ipython",
    "version": 3
   },
   "file_extension": ".py",
   "mimetype": "text/x-python",
   "name": "python",
   "nbconvert_exporter": "python",
   "pygments_lexer": "ipython3",
   "version": "3.9.7"
  }
 },
 "nbformat": 4,
 "nbformat_minor": 5
}
